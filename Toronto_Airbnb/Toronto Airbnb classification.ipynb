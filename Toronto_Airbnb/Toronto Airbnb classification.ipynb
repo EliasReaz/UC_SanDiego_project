{
 "cells": [
  {
   "cell_type": "markdown",
   "metadata": {},
   "source": [
    "### Toronto Airbnb: Applying classification models, logistic regression, SVC, and random forest"
   ]
  },
  {
   "cell_type": "code",
   "execution_count": 1,
   "metadata": {},
   "outputs": [],
   "source": [
    "import numpy as np\n",
    "import matplotlib as mpl\n",
    "import matplotlib.pyplot as plt\n",
    "import seaborn as sns\n",
    "import pandas as pd\n",
    "\n",
    "mpl.rc('axes', labelsize=14)\n",
    "mpl.rc('xtick', labelsize=12)\n",
    "mpl.rc('ytick', labelsize=12)\n",
    "\n",
    "pd.set_option(\"display.max_columns\", 100)\n",
    "pd.set_option('display.max_colwidth', 100)\n",
    "pd.set_option(\"display.notebook_repr_html\", True)"
   ]
  },
  {
   "cell_type": "markdown",
   "metadata": {},
   "source": [
    "#### load dataset\n"
   ]
  },
  {
   "cell_type": "code",
   "execution_count": 2,
   "metadata": {},
   "outputs": [],
   "source": [
    "df = pd.read_csv(\"cleaned_airbnb_dataset.csv\")"
   ]
  },
  {
   "cell_type": "markdown",
   "metadata": {},
   "source": [
    "#### look at the dataset -- head, shape, info, check for missing values, and basic statistics"
   ]
  },
  {
   "cell_type": "code",
   "execution_count": 3,
   "metadata": {},
   "outputs": [
    {
     "data": {
      "text/html": [
       "<div>\n",
       "<style scoped>\n",
       "    .dataframe tbody tr th:only-of-type {\n",
       "        vertical-align: middle;\n",
       "    }\n",
       "\n",
       "    .dataframe tbody tr th {\n",
       "        vertical-align: top;\n",
       "    }\n",
       "\n",
       "    .dataframe thead th {\n",
       "        text-align: right;\n",
       "    }\n",
       "</style>\n",
       "<table border=\"1\" class=\"dataframe\">\n",
       "  <thead>\n",
       "    <tr style=\"text-align: right;\">\n",
       "      <th></th>\n",
       "      <th>neighbourhood</th>\n",
       "      <th>latitude</th>\n",
       "      <th>longitude</th>\n",
       "      <th>room_type</th>\n",
       "      <th>price</th>\n",
       "      <th>minimum_nights</th>\n",
       "      <th>number_of_reviews</th>\n",
       "      <th>availability_365</th>\n",
       "    </tr>\n",
       "  </thead>\n",
       "  <tbody>\n",
       "    <tr>\n",
       "      <th>0</th>\n",
       "      <td>Waterfront Communities-The Island</td>\n",
       "      <td>43.64105</td>\n",
       "      <td>-79.37628</td>\n",
       "      <td>Private room</td>\n",
       "      <td>99</td>\n",
       "      <td>180</td>\n",
       "      <td>169</td>\n",
       "      <td>0</td>\n",
       "    </tr>\n",
       "    <tr>\n",
       "      <th>1</th>\n",
       "      <td>Annex</td>\n",
       "      <td>43.66724</td>\n",
       "      <td>-79.41598</td>\n",
       "      <td>Private room</td>\n",
       "      <td>66</td>\n",
       "      <td>1</td>\n",
       "      <td>0</td>\n",
       "      <td>0</td>\n",
       "    </tr>\n",
       "    <tr>\n",
       "      <th>2</th>\n",
       "      <td>Briar Hill-Belgravia</td>\n",
       "      <td>43.69602</td>\n",
       "      <td>-79.45468</td>\n",
       "      <td>Private room</td>\n",
       "      <td>72</td>\n",
       "      <td>1</td>\n",
       "      <td>211</td>\n",
       "      <td>262</td>\n",
       "    </tr>\n",
       "    <tr>\n",
       "      <th>3</th>\n",
       "      <td>Waterfront Communities-The Island</td>\n",
       "      <td>43.64530</td>\n",
       "      <td>-79.38940</td>\n",
       "      <td>Entire home/apt</td>\n",
       "      <td>199</td>\n",
       "      <td>4</td>\n",
       "      <td>38</td>\n",
       "      <td>323</td>\n",
       "    </tr>\n",
       "    <tr>\n",
       "      <th>4</th>\n",
       "      <td>Greenwood-Coxwell</td>\n",
       "      <td>43.66890</td>\n",
       "      <td>-79.32592</td>\n",
       "      <td>Entire home/apt</td>\n",
       "      <td>54</td>\n",
       "      <td>120</td>\n",
       "      <td>26</td>\n",
       "      <td>0</td>\n",
       "    </tr>\n",
       "  </tbody>\n",
       "</table>\n",
       "</div>"
      ],
      "text/plain": [
       "                       neighbourhood  latitude  longitude        room_type  \\\n",
       "0  Waterfront Communities-The Island  43.64105  -79.37628     Private room   \n",
       "1                              Annex  43.66724  -79.41598     Private room   \n",
       "2               Briar Hill-Belgravia  43.69602  -79.45468     Private room   \n",
       "3  Waterfront Communities-The Island  43.64530  -79.38940  Entire home/apt   \n",
       "4                  Greenwood-Coxwell  43.66890  -79.32592  Entire home/apt   \n",
       "\n",
       "   price  minimum_nights  number_of_reviews  availability_365  \n",
       "0     99             180                169                 0  \n",
       "1     66               1                  0                 0  \n",
       "2     72               1                211               262  \n",
       "3    199               4                 38               323  \n",
       "4     54             120                 26                 0  "
      ]
     },
     "execution_count": 3,
     "metadata": {},
     "output_type": "execute_result"
    }
   ],
   "source": [
    "df.head()"
   ]
  },
  {
   "cell_type": "code",
   "execution_count": 4,
   "metadata": {},
   "outputs": [],
   "source": [
    "df = df[['neighbourhood', 'latitude', 'longitude', 'price', 'minimum_nights', 'number_of_reviews', 'availability_365', 'room_type' ]]"
   ]
  },
  {
   "cell_type": "code",
   "execution_count": 5,
   "metadata": {},
   "outputs": [
    {
     "data": {
      "text/html": [
       "<div>\n",
       "<style scoped>\n",
       "    .dataframe tbody tr th:only-of-type {\n",
       "        vertical-align: middle;\n",
       "    }\n",
       "\n",
       "    .dataframe tbody tr th {\n",
       "        vertical-align: top;\n",
       "    }\n",
       "\n",
       "    .dataframe thead th {\n",
       "        text-align: right;\n",
       "    }\n",
       "</style>\n",
       "<table border=\"1\" class=\"dataframe\">\n",
       "  <thead>\n",
       "    <tr style=\"text-align: right;\">\n",
       "      <th></th>\n",
       "      <th>neighbourhood</th>\n",
       "      <th>latitude</th>\n",
       "      <th>longitude</th>\n",
       "      <th>price</th>\n",
       "      <th>minimum_nights</th>\n",
       "      <th>number_of_reviews</th>\n",
       "      <th>availability_365</th>\n",
       "      <th>room_type</th>\n",
       "    </tr>\n",
       "  </thead>\n",
       "  <tbody>\n",
       "    <tr>\n",
       "      <th>0</th>\n",
       "      <td>Waterfront Communities-The Island</td>\n",
       "      <td>43.64105</td>\n",
       "      <td>-79.37628</td>\n",
       "      <td>99</td>\n",
       "      <td>180</td>\n",
       "      <td>169</td>\n",
       "      <td>0</td>\n",
       "      <td>Private room</td>\n",
       "    </tr>\n",
       "    <tr>\n",
       "      <th>1</th>\n",
       "      <td>Annex</td>\n",
       "      <td>43.66724</td>\n",
       "      <td>-79.41598</td>\n",
       "      <td>66</td>\n",
       "      <td>1</td>\n",
       "      <td>0</td>\n",
       "      <td>0</td>\n",
       "      <td>Private room</td>\n",
       "    </tr>\n",
       "    <tr>\n",
       "      <th>2</th>\n",
       "      <td>Briar Hill-Belgravia</td>\n",
       "      <td>43.69602</td>\n",
       "      <td>-79.45468</td>\n",
       "      <td>72</td>\n",
       "      <td>1</td>\n",
       "      <td>211</td>\n",
       "      <td>262</td>\n",
       "      <td>Private room</td>\n",
       "    </tr>\n",
       "    <tr>\n",
       "      <th>3</th>\n",
       "      <td>Waterfront Communities-The Island</td>\n",
       "      <td>43.64530</td>\n",
       "      <td>-79.38940</td>\n",
       "      <td>199</td>\n",
       "      <td>4</td>\n",
       "      <td>38</td>\n",
       "      <td>323</td>\n",
       "      <td>Entire home/apt</td>\n",
       "    </tr>\n",
       "    <tr>\n",
       "      <th>4</th>\n",
       "      <td>Greenwood-Coxwell</td>\n",
       "      <td>43.66890</td>\n",
       "      <td>-79.32592</td>\n",
       "      <td>54</td>\n",
       "      <td>120</td>\n",
       "      <td>26</td>\n",
       "      <td>0</td>\n",
       "      <td>Entire home/apt</td>\n",
       "    </tr>\n",
       "  </tbody>\n",
       "</table>\n",
       "</div>"
      ],
      "text/plain": [
       "                       neighbourhood  latitude  longitude  price  \\\n",
       "0  Waterfront Communities-The Island  43.64105  -79.37628     99   \n",
       "1                              Annex  43.66724  -79.41598     66   \n",
       "2               Briar Hill-Belgravia  43.69602  -79.45468     72   \n",
       "3  Waterfront Communities-The Island  43.64530  -79.38940    199   \n",
       "4                  Greenwood-Coxwell  43.66890  -79.32592     54   \n",
       "\n",
       "   minimum_nights  number_of_reviews  availability_365        room_type  \n",
       "0             180                169                 0     Private room  \n",
       "1               1                  0                 0     Private room  \n",
       "2               1                211               262     Private room  \n",
       "3               4                 38               323  Entire home/apt  \n",
       "4             120                 26                 0  Entire home/apt  "
      ]
     },
     "execution_count": 5,
     "metadata": {},
     "output_type": "execute_result"
    }
   ],
   "source": [
    "df.head(5)"
   ]
  },
  {
   "cell_type": "code",
   "execution_count": 6,
   "metadata": {},
   "outputs": [
    {
     "name": "stdout",
     "output_type": "stream",
     "text": [
      "Column names: \n",
      " Index(['neighbourhood', 'latitude', 'longitude', 'price', 'minimum_nights',\n",
      "       'number_of_reviews', 'availability_365', 'room_type'],\n",
      "      dtype='object')\n",
      "\n",
      "Number of rows are: 20289 and number of columns are: 8\n",
      "\n",
      "Findout missing values: \n",
      "\n",
      "<class 'pandas.core.frame.DataFrame'>\n",
      "RangeIndex: 20289 entries, 0 to 20288\n",
      "Data columns (total 8 columns):\n",
      "neighbourhood        20289 non-null object\n",
      "latitude             20289 non-null float64\n",
      "longitude            20289 non-null float64\n",
      "price                20289 non-null int64\n",
      "minimum_nights       20289 non-null int64\n",
      "number_of_reviews    20289 non-null int64\n",
      "availability_365     20289 non-null int64\n",
      "room_type            20289 non-null object\n",
      "dtypes: float64(2), int64(4), object(2)\n",
      "memory usage: 1.2+ MB\n",
      "None\n"
     ]
    }
   ],
   "source": [
    "print(\"Column names: \\n\", df.columns)\n",
    "print(\"\\nNumber of rows are: {} and number of columns are: {}\".format(df.shape[0], df.shape[1]))\n",
    "print(\"\\nFindout missing values: \\n\")\n",
    "print(df.info())"
   ]
  },
  {
   "cell_type": "code",
   "execution_count": 7,
   "metadata": {},
   "outputs": [
    {
     "data": {
      "text/html": [
       "<div>\n",
       "<style scoped>\n",
       "    .dataframe tbody tr th:only-of-type {\n",
       "        vertical-align: middle;\n",
       "    }\n",
       "\n",
       "    .dataframe tbody tr th {\n",
       "        vertical-align: top;\n",
       "    }\n",
       "\n",
       "    .dataframe thead th {\n",
       "        text-align: right;\n",
       "    }\n",
       "</style>\n",
       "<table border=\"1\" class=\"dataframe\">\n",
       "  <thead>\n",
       "    <tr style=\"text-align: right;\">\n",
       "      <th></th>\n",
       "      <th>neighbourhood</th>\n",
       "      <th>latitude</th>\n",
       "      <th>longitude</th>\n",
       "      <th>price</th>\n",
       "      <th>minimum_nights</th>\n",
       "      <th>number_of_reviews</th>\n",
       "      <th>availability_365</th>\n",
       "    </tr>\n",
       "    <tr>\n",
       "      <th>room_type</th>\n",
       "      <th></th>\n",
       "      <th></th>\n",
       "      <th></th>\n",
       "      <th></th>\n",
       "      <th></th>\n",
       "      <th></th>\n",
       "      <th></th>\n",
       "    </tr>\n",
       "  </thead>\n",
       "  <tbody>\n",
       "    <tr>\n",
       "      <th>Entire home/apt</th>\n",
       "      <td>12729</td>\n",
       "      <td>12729</td>\n",
       "      <td>12729</td>\n",
       "      <td>12729</td>\n",
       "      <td>12729</td>\n",
       "      <td>12729</td>\n",
       "      <td>12729</td>\n",
       "    </tr>\n",
       "    <tr>\n",
       "      <th>Hotel room</th>\n",
       "      <td>173</td>\n",
       "      <td>173</td>\n",
       "      <td>173</td>\n",
       "      <td>173</td>\n",
       "      <td>173</td>\n",
       "      <td>173</td>\n",
       "      <td>173</td>\n",
       "    </tr>\n",
       "    <tr>\n",
       "      <th>Private room</th>\n",
       "      <td>7040</td>\n",
       "      <td>7040</td>\n",
       "      <td>7040</td>\n",
       "      <td>7040</td>\n",
       "      <td>7040</td>\n",
       "      <td>7040</td>\n",
       "      <td>7040</td>\n",
       "    </tr>\n",
       "    <tr>\n",
       "      <th>Shared room</th>\n",
       "      <td>347</td>\n",
       "      <td>347</td>\n",
       "      <td>347</td>\n",
       "      <td>347</td>\n",
       "      <td>347</td>\n",
       "      <td>347</td>\n",
       "      <td>347</td>\n",
       "    </tr>\n",
       "  </tbody>\n",
       "</table>\n",
       "</div>"
      ],
      "text/plain": [
       "                 neighbourhood  latitude  longitude  price  minimum_nights  \\\n",
       "room_type                                                                    \n",
       "Entire home/apt          12729     12729      12729  12729           12729   \n",
       "Hotel room                 173       173        173    173             173   \n",
       "Private room              7040      7040       7040   7040            7040   \n",
       "Shared room                347       347        347    347             347   \n",
       "\n",
       "                 number_of_reviews  availability_365  \n",
       "room_type                                             \n",
       "Entire home/apt              12729             12729  \n",
       "Hotel room                     173               173  \n",
       "Private room                  7040              7040  \n",
       "Shared room                    347               347  "
      ]
     },
     "execution_count": 7,
     "metadata": {},
     "output_type": "execute_result"
    }
   ],
   "source": [
    "df.groupby(\"room_type\").count()"
   ]
  },
  {
   "cell_type": "code",
   "execution_count": 8,
   "metadata": {},
   "outputs": [],
   "source": [
    "categorical_features = ['neighbourhood', 'room_type']\n",
    "numerical_features = [\"latitude\", \"longitude\", \"price\", \"minimum_nights\", \"number_of_reviews\", \"availability_365\"]"
   ]
  },
  {
   "cell_type": "code",
   "execution_count": 9,
   "metadata": {},
   "outputs": [],
   "source": [
    "from sklearn import model_selection\n",
    "from sklearn import preprocessing"
   ]
  },
  {
   "cell_type": "code",
   "execution_count": 10,
   "metadata": {},
   "outputs": [],
   "source": [
    "df_ml = df.copy()"
   ]
  },
  {
   "cell_type": "code",
   "execution_count": 11,
   "metadata": {},
   "outputs": [
    {
     "data": {
      "text/html": [
       "<div>\n",
       "<style scoped>\n",
       "    .dataframe tbody tr th:only-of-type {\n",
       "        vertical-align: middle;\n",
       "    }\n",
       "\n",
       "    .dataframe tbody tr th {\n",
       "        vertical-align: top;\n",
       "    }\n",
       "\n",
       "    .dataframe thead th {\n",
       "        text-align: right;\n",
       "    }\n",
       "</style>\n",
       "<table border=\"1\" class=\"dataframe\">\n",
       "  <thead>\n",
       "    <tr style=\"text-align: right;\">\n",
       "      <th></th>\n",
       "      <th>neighbourhood</th>\n",
       "      <th>latitude</th>\n",
       "      <th>longitude</th>\n",
       "      <th>price</th>\n",
       "      <th>minimum_nights</th>\n",
       "      <th>number_of_reviews</th>\n",
       "      <th>availability_365</th>\n",
       "      <th>room_type</th>\n",
       "    </tr>\n",
       "  </thead>\n",
       "  <tbody>\n",
       "    <tr>\n",
       "      <th>0</th>\n",
       "      <td>Waterfront Communities-The Island</td>\n",
       "      <td>43.64105</td>\n",
       "      <td>-79.37628</td>\n",
       "      <td>99</td>\n",
       "      <td>180</td>\n",
       "      <td>169</td>\n",
       "      <td>0</td>\n",
       "      <td>Private room</td>\n",
       "    </tr>\n",
       "    <tr>\n",
       "      <th>1</th>\n",
       "      <td>Annex</td>\n",
       "      <td>43.66724</td>\n",
       "      <td>-79.41598</td>\n",
       "      <td>66</td>\n",
       "      <td>1</td>\n",
       "      <td>0</td>\n",
       "      <td>0</td>\n",
       "      <td>Private room</td>\n",
       "    </tr>\n",
       "    <tr>\n",
       "      <th>2</th>\n",
       "      <td>Briar Hill-Belgravia</td>\n",
       "      <td>43.69602</td>\n",
       "      <td>-79.45468</td>\n",
       "      <td>72</td>\n",
       "      <td>1</td>\n",
       "      <td>211</td>\n",
       "      <td>262</td>\n",
       "      <td>Private room</td>\n",
       "    </tr>\n",
       "    <tr>\n",
       "      <th>3</th>\n",
       "      <td>Waterfront Communities-The Island</td>\n",
       "      <td>43.64530</td>\n",
       "      <td>-79.38940</td>\n",
       "      <td>199</td>\n",
       "      <td>4</td>\n",
       "      <td>38</td>\n",
       "      <td>323</td>\n",
       "      <td>Entire home/apt</td>\n",
       "    </tr>\n",
       "    <tr>\n",
       "      <th>4</th>\n",
       "      <td>Greenwood-Coxwell</td>\n",
       "      <td>43.66890</td>\n",
       "      <td>-79.32592</td>\n",
       "      <td>54</td>\n",
       "      <td>120</td>\n",
       "      <td>26</td>\n",
       "      <td>0</td>\n",
       "      <td>Entire home/apt</td>\n",
       "    </tr>\n",
       "  </tbody>\n",
       "</table>\n",
       "</div>"
      ],
      "text/plain": [
       "                       neighbourhood  latitude  longitude  price  \\\n",
       "0  Waterfront Communities-The Island  43.64105  -79.37628     99   \n",
       "1                              Annex  43.66724  -79.41598     66   \n",
       "2               Briar Hill-Belgravia  43.69602  -79.45468     72   \n",
       "3  Waterfront Communities-The Island  43.64530  -79.38940    199   \n",
       "4                  Greenwood-Coxwell  43.66890  -79.32592     54   \n",
       "\n",
       "   minimum_nights  number_of_reviews  availability_365        room_type  \n",
       "0             180                169                 0     Private room  \n",
       "1               1                  0                 0     Private room  \n",
       "2               1                211               262     Private room  \n",
       "3               4                 38               323  Entire home/apt  \n",
       "4             120                 26                 0  Entire home/apt  "
      ]
     },
     "execution_count": 11,
     "metadata": {},
     "output_type": "execute_result"
    }
   ],
   "source": [
    "df.head(5)"
   ]
  },
  {
   "cell_type": "code",
   "execution_count": 12,
   "metadata": {},
   "outputs": [],
   "source": [
    "lbl_encd = preprocessing.LabelEncoder()\n",
    "df_ml[categorical_features] = df[categorical_features].apply(lambda col: lbl_encd.fit_transform(col))"
   ]
  },
  {
   "cell_type": "code",
   "execution_count": 13,
   "metadata": {},
   "outputs": [
    {
     "data": {
      "text/html": [
       "<div>\n",
       "<style scoped>\n",
       "    .dataframe tbody tr th:only-of-type {\n",
       "        vertical-align: middle;\n",
       "    }\n",
       "\n",
       "    .dataframe tbody tr th {\n",
       "        vertical-align: top;\n",
       "    }\n",
       "\n",
       "    .dataframe thead th {\n",
       "        text-align: right;\n",
       "    }\n",
       "</style>\n",
       "<table border=\"1\" class=\"dataframe\">\n",
       "  <thead>\n",
       "    <tr style=\"text-align: right;\">\n",
       "      <th></th>\n",
       "      <th>neighbourhood</th>\n",
       "      <th>latitude</th>\n",
       "      <th>longitude</th>\n",
       "      <th>price</th>\n",
       "      <th>minimum_nights</th>\n",
       "      <th>number_of_reviews</th>\n",
       "      <th>availability_365</th>\n",
       "      <th>room_type</th>\n",
       "    </tr>\n",
       "  </thead>\n",
       "  <tbody>\n",
       "    <tr>\n",
       "      <th>0</th>\n",
       "      <td>122</td>\n",
       "      <td>43.64105</td>\n",
       "      <td>-79.37628</td>\n",
       "      <td>99</td>\n",
       "      <td>180</td>\n",
       "      <td>169</td>\n",
       "      <td>0</td>\n",
       "      <td>2</td>\n",
       "    </tr>\n",
       "    <tr>\n",
       "      <th>1</th>\n",
       "      <td>3</td>\n",
       "      <td>43.66724</td>\n",
       "      <td>-79.41598</td>\n",
       "      <td>66</td>\n",
       "      <td>1</td>\n",
       "      <td>0</td>\n",
       "      <td>0</td>\n",
       "      <td>2</td>\n",
       "    </tr>\n",
       "    <tr>\n",
       "      <th>2</th>\n",
       "      <td>15</td>\n",
       "      <td>43.69602</td>\n",
       "      <td>-79.45468</td>\n",
       "      <td>72</td>\n",
       "      <td>1</td>\n",
       "      <td>211</td>\n",
       "      <td>262</td>\n",
       "      <td>2</td>\n",
       "    </tr>\n",
       "    <tr>\n",
       "      <th>3</th>\n",
       "      <td>122</td>\n",
       "      <td>43.64530</td>\n",
       "      <td>-79.38940</td>\n",
       "      <td>199</td>\n",
       "      <td>4</td>\n",
       "      <td>38</td>\n",
       "      <td>323</td>\n",
       "      <td>0</td>\n",
       "    </tr>\n",
       "    <tr>\n",
       "      <th>4</th>\n",
       "      <td>46</td>\n",
       "      <td>43.66890</td>\n",
       "      <td>-79.32592</td>\n",
       "      <td>54</td>\n",
       "      <td>120</td>\n",
       "      <td>26</td>\n",
       "      <td>0</td>\n",
       "      <td>0</td>\n",
       "    </tr>\n",
       "  </tbody>\n",
       "</table>\n",
       "</div>"
      ],
      "text/plain": [
       "   neighbourhood  latitude  longitude  price  minimum_nights  \\\n",
       "0            122  43.64105  -79.37628     99             180   \n",
       "1              3  43.66724  -79.41598     66               1   \n",
       "2             15  43.69602  -79.45468     72               1   \n",
       "3            122  43.64530  -79.38940    199               4   \n",
       "4             46  43.66890  -79.32592     54             120   \n",
       "\n",
       "   number_of_reviews  availability_365  room_type  \n",
       "0                169                 0          2  \n",
       "1                  0                 0          2  \n",
       "2                211               262          2  \n",
       "3                 38               323          0  \n",
       "4                 26                 0          0  "
      ]
     },
     "execution_count": 13,
     "metadata": {},
     "output_type": "execute_result"
    }
   ],
   "source": [
    "df_ml.head(n=5)"
   ]
  },
  {
   "cell_type": "code",
   "execution_count": 14,
   "metadata": {},
   "outputs": [],
   "source": [
    "# df[100:150]"
   ]
  },
  {
   "cell_type": "code",
   "execution_count": 15,
   "metadata": {},
   "outputs": [],
   "source": [
    "# df_ml[100:150]"
   ]
  },
  {
   "cell_type": "code",
   "execution_count": 16,
   "metadata": {},
   "outputs": [],
   "source": [
    "minmaxscaler = preprocessing.MinMaxScaler()"
   ]
  },
  {
   "cell_type": "code",
   "execution_count": 17,
   "metadata": {},
   "outputs": [
    {
     "name": "stderr",
     "output_type": "stream",
     "text": [
      "C:\\Users\\elias\\Anaconda3\\lib\\site-packages\\sklearn\\preprocessing\\data.py:323: DataConversionWarning: Data with input dtype int64, float64 were all converted to float64 by MinMaxScaler.\n",
      "  return self.partial_fit(X, y)\n"
     ]
    }
   ],
   "source": [
    "df_ml[numerical_features] = minmaxscaler.fit_transform(df[numerical_features])"
   ]
  },
  {
   "cell_type": "code",
   "execution_count": 18,
   "metadata": {},
   "outputs": [
    {
     "data": {
      "text/html": [
       "<div>\n",
       "<style scoped>\n",
       "    .dataframe tbody tr th:only-of-type {\n",
       "        vertical-align: middle;\n",
       "    }\n",
       "\n",
       "    .dataframe tbody tr th {\n",
       "        vertical-align: top;\n",
       "    }\n",
       "\n",
       "    .dataframe thead th {\n",
       "        text-align: right;\n",
       "    }\n",
       "</style>\n",
       "<table border=\"1\" class=\"dataframe\">\n",
       "  <thead>\n",
       "    <tr style=\"text-align: right;\">\n",
       "      <th></th>\n",
       "      <th>neighbourhood</th>\n",
       "      <th>latitude</th>\n",
       "      <th>longitude</th>\n",
       "      <th>price</th>\n",
       "      <th>minimum_nights</th>\n",
       "      <th>number_of_reviews</th>\n",
       "      <th>availability_365</th>\n",
       "      <th>room_type</th>\n",
       "    </tr>\n",
       "  </thead>\n",
       "  <tbody>\n",
       "    <tr>\n",
       "      <th>0</th>\n",
       "      <td>122</td>\n",
       "      <td>0.216210</td>\n",
       "      <td>0.498699</td>\n",
       "      <td>0.331104</td>\n",
       "      <td>0.159253</td>\n",
       "      <td>0.225634</td>\n",
       "      <td>0.000000</td>\n",
       "      <td>2</td>\n",
       "    </tr>\n",
       "    <tr>\n",
       "      <th>1</th>\n",
       "      <td>3</td>\n",
       "      <td>0.320415</td>\n",
       "      <td>0.418602</td>\n",
       "      <td>0.220736</td>\n",
       "      <td>0.000000</td>\n",
       "      <td>0.000000</td>\n",
       "      <td>0.000000</td>\n",
       "      <td>2</td>\n",
       "    </tr>\n",
       "    <tr>\n",
       "      <th>2</th>\n",
       "      <td>15</td>\n",
       "      <td>0.434926</td>\n",
       "      <td>0.340523</td>\n",
       "      <td>0.240803</td>\n",
       "      <td>0.000000</td>\n",
       "      <td>0.281709</td>\n",
       "      <td>0.717808</td>\n",
       "      <td>2</td>\n",
       "    </tr>\n",
       "    <tr>\n",
       "      <th>3</th>\n",
       "      <td>122</td>\n",
       "      <td>0.233120</td>\n",
       "      <td>0.472228</td>\n",
       "      <td>0.665552</td>\n",
       "      <td>0.002669</td>\n",
       "      <td>0.050734</td>\n",
       "      <td>0.884932</td>\n",
       "      <td>0</td>\n",
       "    </tr>\n",
       "    <tr>\n",
       "      <th>4</th>\n",
       "      <td>46</td>\n",
       "      <td>0.327020</td>\n",
       "      <td>0.600303</td>\n",
       "      <td>0.180602</td>\n",
       "      <td>0.105872</td>\n",
       "      <td>0.034713</td>\n",
       "      <td>0.000000</td>\n",
       "      <td>0</td>\n",
       "    </tr>\n",
       "  </tbody>\n",
       "</table>\n",
       "</div>"
      ],
      "text/plain": [
       "   neighbourhood  latitude  longitude     price  minimum_nights  \\\n",
       "0            122  0.216210   0.498699  0.331104        0.159253   \n",
       "1              3  0.320415   0.418602  0.220736        0.000000   \n",
       "2             15  0.434926   0.340523  0.240803        0.000000   \n",
       "3            122  0.233120   0.472228  0.665552        0.002669   \n",
       "4             46  0.327020   0.600303  0.180602        0.105872   \n",
       "\n",
       "   number_of_reviews  availability_365  room_type  \n",
       "0           0.225634          0.000000          2  \n",
       "1           0.000000          0.000000          2  \n",
       "2           0.281709          0.717808          2  \n",
       "3           0.050734          0.884932          0  \n",
       "4           0.034713          0.000000          0  "
      ]
     },
     "execution_count": 18,
     "metadata": {},
     "output_type": "execute_result"
    }
   ],
   "source": [
    "df_ml.head()"
   ]
  },
  {
   "cell_type": "code",
   "execution_count": 19,
   "metadata": {},
   "outputs": [],
   "source": [
    "X = df_ml[[\"neighbourhood\", \"latitude\", \"longitude\", \"price\", \"minimum_nights\", \"number_of_reviews\", \"availability_365\" ]]"
   ]
  },
  {
   "cell_type": "code",
   "execution_count": 20,
   "metadata": {},
   "outputs": [],
   "source": [
    "y = df_ml[[\"room_type\"]]"
   ]
  },
  {
   "cell_type": "code",
   "execution_count": 21,
   "metadata": {},
   "outputs": [],
   "source": [
    "# X_array = np.asanyarray(X)\n",
    "# y_array = np.asanyarray(y)"
   ]
  },
  {
   "cell_type": "code",
   "execution_count": 22,
   "metadata": {},
   "outputs": [],
   "source": [
    "X_train, X_test, y_train, y_test = model_selection.train_test_split(X, y, test_size=0.2, random_state=0)"
   ]
  },
  {
   "cell_type": "code",
   "execution_count": 23,
   "metadata": {},
   "outputs": [
    {
     "data": {
      "text/plain": [
       "((16231, 7), (16231, 1), (4058, 7), (4058, 1))"
      ]
     },
     "execution_count": 23,
     "metadata": {},
     "output_type": "execute_result"
    }
   ],
   "source": [
    "X_train.shape, y_train.shape, X_test.shape, y_test.shape"
   ]
  },
  {
   "cell_type": "code",
   "execution_count": 30,
   "metadata": {},
   "outputs": [
    {
     "name": "stdout",
     "output_type": "stream",
     "text": [
      "Training dataset: 80.0 %\n",
      "Test dataset    : 20.0 %\n"
     ]
    }
   ],
   "source": [
    "print(\"Training dataset: {} %\".format(round(X_train.shape[0]/df_ml.shape[0] *100, 2)))\n",
    "print(\"Test dataset    : {} %\".format(round(X_test.shape[0]/df_ml.shape[0] * 100, 2)))"
   ]
  },
  {
   "cell_type": "code",
   "execution_count": 24,
   "metadata": {},
   "outputs": [
    {
     "data": {
      "text/html": [
       "<div>\n",
       "<style scoped>\n",
       "    .dataframe tbody tr th:only-of-type {\n",
       "        vertical-align: middle;\n",
       "    }\n",
       "\n",
       "    .dataframe tbody tr th {\n",
       "        vertical-align: top;\n",
       "    }\n",
       "\n",
       "    .dataframe thead th {\n",
       "        text-align: right;\n",
       "    }\n",
       "</style>\n",
       "<table border=\"1\" class=\"dataframe\">\n",
       "  <thead>\n",
       "    <tr style=\"text-align: right;\">\n",
       "      <th></th>\n",
       "      <th>neighbourhood</th>\n",
       "      <th>latitude</th>\n",
       "      <th>longitude</th>\n",
       "      <th>price</th>\n",
       "      <th>minimum_nights</th>\n",
       "      <th>number_of_reviews</th>\n",
       "      <th>availability_365</th>\n",
       "    </tr>\n",
       "  </thead>\n",
       "  <tbody>\n",
       "    <tr>\n",
       "      <th>13389</th>\n",
       "      <td>119</td>\n",
       "      <td>0.230733</td>\n",
       "      <td>0.416463</td>\n",
       "      <td>0.230769</td>\n",
       "      <td>0.000000</td>\n",
       "      <td>0.05474</td>\n",
       "      <td>0.200000</td>\n",
       "    </tr>\n",
       "    <tr>\n",
       "      <th>1785</th>\n",
       "      <td>88</td>\n",
       "      <td>0.329646</td>\n",
       "      <td>0.557894</td>\n",
       "      <td>0.414716</td>\n",
       "      <td>0.001779</td>\n",
       "      <td>0.00000</td>\n",
       "      <td>0.000000</td>\n",
       "    </tr>\n",
       "    <tr>\n",
       "      <th>15731</th>\n",
       "      <td>5</td>\n",
       "      <td>0.682529</td>\n",
       "      <td>0.355775</td>\n",
       "      <td>0.364548</td>\n",
       "      <td>0.000890</td>\n",
       "      <td>0.00534</td>\n",
       "      <td>0.909589</td>\n",
       "    </tr>\n",
       "  </tbody>\n",
       "</table>\n",
       "</div>"
      ],
      "text/plain": [
       "       neighbourhood  latitude  longitude     price  minimum_nights  \\\n",
       "13389            119  0.230733   0.416463  0.230769        0.000000   \n",
       "1785              88  0.329646   0.557894  0.414716        0.001779   \n",
       "15731              5  0.682529   0.355775  0.364548        0.000890   \n",
       "\n",
       "       number_of_reviews  availability_365  \n",
       "13389            0.05474          0.200000  \n",
       "1785             0.00000          0.000000  \n",
       "15731            0.00534          0.909589  "
      ]
     },
     "execution_count": 24,
     "metadata": {},
     "output_type": "execute_result"
    }
   ],
   "source": [
    "X_train.head(3)"
   ]
  },
  {
   "cell_type": "code",
   "execution_count": 25,
   "metadata": {},
   "outputs": [
    {
     "data": {
      "text/plain": [
       "pandas.core.frame.DataFrame"
      ]
     },
     "execution_count": 25,
     "metadata": {},
     "output_type": "execute_result"
    }
   ],
   "source": [
    "type(X_train)"
   ]
  },
  {
   "cell_type": "code",
   "execution_count": 26,
   "metadata": {},
   "outputs": [
    {
     "data": {
      "text/html": [
       "<div>\n",
       "<style scoped>\n",
       "    .dataframe tbody tr th:only-of-type {\n",
       "        vertical-align: middle;\n",
       "    }\n",
       "\n",
       "    .dataframe tbody tr th {\n",
       "        vertical-align: top;\n",
       "    }\n",
       "\n",
       "    .dataframe thead th {\n",
       "        text-align: right;\n",
       "    }\n",
       "</style>\n",
       "<table border=\"1\" class=\"dataframe\">\n",
       "  <thead>\n",
       "    <tr style=\"text-align: right;\">\n",
       "      <th></th>\n",
       "      <th>room_type</th>\n",
       "    </tr>\n",
       "  </thead>\n",
       "  <tbody>\n",
       "    <tr>\n",
       "      <th>13389</th>\n",
       "      <td>2</td>\n",
       "    </tr>\n",
       "    <tr>\n",
       "      <th>1785</th>\n",
       "      <td>0</td>\n",
       "    </tr>\n",
       "    <tr>\n",
       "      <th>15731</th>\n",
       "      <td>2</td>\n",
       "    </tr>\n",
       "  </tbody>\n",
       "</table>\n",
       "</div>"
      ],
      "text/plain": [
       "       room_type\n",
       "13389          2\n",
       "1785           0\n",
       "15731          2"
      ]
     },
     "execution_count": 26,
     "metadata": {},
     "output_type": "execute_result"
    }
   ],
   "source": [
    "y_train.head(3)"
   ]
  },
  {
   "cell_type": "code",
   "execution_count": 27,
   "metadata": {},
   "outputs": [],
   "source": [
    "X_train.to_csv(\"X_train_df.csv\", index=False)\n",
    "y_train.to_csv(\"y_train_df.csv\", index=False)\n",
    "\n",
    "X_test.to_csv(\"X_test_df.csv\", index=False)\n",
    "y_test.to_csv(\"y_test_df.csv\", index=False)"
   ]
  },
  {
   "cell_type": "code",
   "execution_count": null,
   "metadata": {},
   "outputs": [],
   "source": []
  }
 ],
 "metadata": {
  "kernelspec": {
   "display_name": "Python 3",
   "language": "python",
   "name": "python3"
  },
  "language_info": {
   "codemirror_mode": {
    "name": "ipython",
    "version": 3
   },
   "file_extension": ".py",
   "mimetype": "text/x-python",
   "name": "python",
   "nbconvert_exporter": "python",
   "pygments_lexer": "ipython3",
   "version": "3.7.1"
  }
 },
 "nbformat": 4,
 "nbformat_minor": 2
}
