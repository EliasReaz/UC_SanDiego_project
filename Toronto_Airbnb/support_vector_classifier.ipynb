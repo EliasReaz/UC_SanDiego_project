{
 "cells": [
  {
   "cell_type": "markdown",
   "metadata": {},
   "source": [
    "### Support Vector Classifier (SVC) "
   ]
  },
  {
   "cell_type": "code",
   "execution_count": 1,
   "metadata": {},
   "outputs": [],
   "source": [
    "from sklearn.svm import SVC\n",
    "from sklearn.model_selection import RandomizedSearchCV\n",
    "import warnings\n",
    "warnings.filterwarnings('ignore', category=FutureWarning)\n",
    "warnings.filterwarnings('ignore', category=DeprecationWarning)\n",
    "\n",
    "import pandas as pd\n",
    "import numpy as np\n",
    "import matplotlib.pyplot as plt\n",
    "import matplotlib as mpl"
   ]
  },
  {
   "cell_type": "code",
   "execution_count": 2,
   "metadata": {},
   "outputs": [],
   "source": [
    "X_train = pd.read_csv(\"X_train_df.csv\")\n",
    "y_train = pd.read_csv(\"y_train_df.csv\")"
   ]
  },
  {
   "cell_type": "code",
   "execution_count": 3,
   "metadata": {},
   "outputs": [],
   "source": [
    "parameters = {'gamma': [1e-3, 1e-4], 'C':[0.1, 10 , 100, 1000]}"
   ]
  },
  {
   "cell_type": "code",
   "execution_count": 4,
   "metadata": {},
   "outputs": [],
   "source": [
    "svc_classifier = SVC(random_state=0)"
   ]
  },
  {
   "cell_type": "code",
   "execution_count": 5,
   "metadata": {},
   "outputs": [],
   "source": [
    "rnd_cv = RandomizedSearchCV(estimator = svc_classifier, param_distributions=parameters, cv=5)"
   ]
  },
  {
   "cell_type": "code",
   "execution_count": 6,
   "metadata": {},
   "outputs": [
    {
     "data": {
      "text/plain": [
       "['__abstractmethods__',\n",
       " '__class__',\n",
       " '__delattr__',\n",
       " '__dict__',\n",
       " '__dir__',\n",
       " '__doc__',\n",
       " '__eq__',\n",
       " '__format__',\n",
       " '__ge__',\n",
       " '__getattribute__',\n",
       " '__getstate__',\n",
       " '__gt__',\n",
       " '__hash__',\n",
       " '__init__',\n",
       " '__init_subclass__',\n",
       " '__le__',\n",
       " '__lt__',\n",
       " '__module__',\n",
       " '__ne__',\n",
       " '__new__',\n",
       " '__reduce__',\n",
       " '__reduce_ex__',\n",
       " '__repr__',\n",
       " '__setattr__',\n",
       " '__setstate__',\n",
       " '__sizeof__',\n",
       " '__str__',\n",
       " '__subclasshook__',\n",
       " '__weakref__',\n",
       " '_abc_impl',\n",
       " '_check_is_fitted',\n",
       " '_estimator_type',\n",
       " '_format_results',\n",
       " '_get_param_names',\n",
       " '_run_search',\n",
       " 'classes_',\n",
       " 'cv',\n",
       " 'decision_function',\n",
       " 'error_score',\n",
       " 'estimator',\n",
       " 'fit',\n",
       " 'fit_params',\n",
       " 'get_params',\n",
       " 'iid',\n",
       " 'inverse_transform',\n",
       " 'n_iter',\n",
       " 'n_jobs',\n",
       " 'param_distributions',\n",
       " 'pre_dispatch',\n",
       " 'predict',\n",
       " 'predict_log_proba',\n",
       " 'predict_proba',\n",
       " 'random_state',\n",
       " 'refit',\n",
       " 'return_train_score',\n",
       " 'score',\n",
       " 'scoring',\n",
       " 'set_params',\n",
       " 'transform',\n",
       " 'verbose']"
      ]
     },
     "execution_count": 6,
     "metadata": {},
     "output_type": "execute_result"
    }
   ],
   "source": [
    "dir(rnd_cv)"
   ]
  },
  {
   "cell_type": "code",
   "execution_count": 7,
   "metadata": {},
   "outputs": [
    {
     "name": "stderr",
     "output_type": "stream",
     "text": [
      "C:\\Users\\elias\\Anaconda3\\lib\\site-packages\\sklearn\\model_selection\\_search.py:271: UserWarning: The total space of parameters 8 is smaller than n_iter=10. Running 8 iterations. For exhaustive searches, use GridSearchCV.\n",
      "  % (grid_size, self.n_iter, grid_size), UserWarning)\n"
     ]
    },
    {
     "data": {
      "text/plain": [
       "RandomizedSearchCV(cv=5, error_score='raise-deprecating',\n",
       "          estimator=SVC(C=1.0, cache_size=200, class_weight=None, coef0=0.0,\n",
       "  decision_function_shape='ovr', degree=3, gamma='auto_deprecated',\n",
       "  kernel='rbf', max_iter=-1, probability=False, random_state=0,\n",
       "  shrinking=True, tol=0.001, verbose=False),\n",
       "          fit_params=None, iid='warn', n_iter=10, n_jobs=None,\n",
       "          param_distributions={'gamma': [0.001, 0.0001], 'C': [0.1, 10, 100, 1000]},\n",
       "          pre_dispatch='2*n_jobs', random_state=None, refit=True,\n",
       "          return_train_score='warn', scoring=None, verbose=0)"
      ]
     },
     "execution_count": 7,
     "metadata": {},
     "output_type": "execute_result"
    }
   ],
   "source": [
    "rnd_cv.fit(X_train, y_train.values.ravel())"
   ]
  },
  {
   "cell_type": "code",
   "execution_count": 8,
   "metadata": {},
   "outputs": [
    {
     "data": {
      "text/plain": [
       "0.8166471566754975"
      ]
     },
     "execution_count": 8,
     "metadata": {},
     "output_type": "execute_result"
    }
   ],
   "source": [
    "rnd_cv.best_score_"
   ]
  },
  {
   "cell_type": "code",
   "execution_count": 9,
   "metadata": {},
   "outputs": [
    {
     "data": {
      "text/plain": [
       "{'gamma': 0.001, 'C': 1000}"
      ]
     },
     "execution_count": 9,
     "metadata": {},
     "output_type": "execute_result"
    }
   ],
   "source": [
    "rnd_cv.best_params_"
   ]
  },
  {
   "cell_type": "code",
   "execution_count": 10,
   "metadata": {},
   "outputs": [
    {
     "data": {
      "text/plain": [
       "{'mean_fit_time': array([ 3.84003301,  3.76352267,  4.18795953,  4.05578022,  6.94599457,\n",
       "         5.13282046, 16.16296167,  9.17170806]),\n",
       " 'std_fit_time': array([0.05891384, 0.07495463, 0.06265959, 0.06086396, 0.33721293,\n",
       "        0.57610788, 0.27553408, 0.26679954]),\n",
       " 'mean_score_time': array([0.60262904, 0.61559272, 0.60414681, 0.60650091, 0.47353773,\n",
       "        0.54229431, 0.41058855, 0.43007679]),\n",
       " 'std_score_time': array([0.00844819, 0.00854268, 0.03945664, 0.00587444, 0.01139253,\n",
       "        0.00763511, 0.01565025, 0.00724285]),\n",
       " 'param_gamma': masked_array(data=[0.001, 0.0001, 0.001, 0.0001, 0.001, 0.0001, 0.001,\n",
       "                    0.0001],\n",
       "              mask=[False, False, False, False, False, False, False, False],\n",
       "        fill_value='?',\n",
       "             dtype=object),\n",
       " 'param_C': masked_array(data=[0.1, 0.1, 10, 10, 100, 100, 1000, 1000],\n",
       "              mask=[False, False, False, False, False, False, False, False],\n",
       "        fill_value='?',\n",
       "             dtype=object),\n",
       " 'params': [{'gamma': 0.001, 'C': 0.1},\n",
       "  {'gamma': 0.0001, 'C': 0.1},\n",
       "  {'gamma': 0.001, 'C': 10},\n",
       "  {'gamma': 0.0001, 'C': 10},\n",
       "  {'gamma': 0.001, 'C': 100},\n",
       "  {'gamma': 0.0001, 'C': 100},\n",
       "  {'gamma': 0.001, 'C': 1000},\n",
       "  {'gamma': 0.0001, 'C': 1000}],\n",
       " 'split0_test_score': array([0.62973223, 0.62973223, 0.75530933, 0.62973223, 0.8128655 ,\n",
       "        0.79347492, 0.81502001, 0.81255771]),\n",
       " 'split1_test_score': array([0.63000616, 0.63000616, 0.76001232, 0.63000616, 0.81176833,\n",
       "        0.79174368, 0.81546519, 0.81300062]),\n",
       " 'split2_test_score': array([0.63000616, 0.63000616, 0.77356747, 0.63000616, 0.81762169,\n",
       "        0.80406654, 0.81546519, 0.81484904]),\n",
       " 'split3_test_score': array([0.63020031, 0.63020031, 0.74206471, 0.63020031, 0.81633282,\n",
       "        0.78767334, 0.82526965, 0.81787365]),\n",
       " 'split4_test_score': array([0.63020031, 0.63020031, 0.74329738, 0.63020031, 0.80893683,\n",
       "        0.78366718, 0.81201849, 0.80708783]),\n",
       " 'mean_test_score': array([0.63002896, 0.63002896, 0.75485183, 0.63002896, 0.81350502,\n",
       "        0.79212618, 0.81664716, 0.81307375]),\n",
       " 'std_test_score': array([0.00017197, 0.00017197, 0.01161032, 0.00017197, 0.00313769,\n",
       "        0.00686847, 0.00449845, 0.00352908]),\n",
       " 'rank_test_score': array([6, 6, 5, 6, 2, 4, 1, 3]),\n",
       " 'split0_train_score': array([0.63010322, 0.63010322, 0.76143892, 0.63010322, 0.81397319,\n",
       "        0.79771992, 0.81905716, 0.81566785]),\n",
       " 'split1_train_score': array([0.63003466, 0.63003466, 0.75748941, 0.63003466, 0.81540239,\n",
       "        0.79206777, 0.81963804, 0.81470928]),\n",
       " 'split2_train_score': array([0.63003466, 0.63003466, 0.75541009, 0.63003466, 0.81347709,\n",
       "        0.79083558, 0.81925298, 0.81262996]),\n",
       " 'split3_train_score': array([0.62998614, 0.62998614, 0.75612198, 0.62998614, 0.81449253,\n",
       "        0.79115971, 0.81865085, 0.81364546]),\n",
       " 'split4_train_score': array([0.62998614, 0.62998614, 0.75673803, 0.62998614, 0.81487756,\n",
       "        0.79385492, 0.82196211, 0.81549361]),\n",
       " 'mean_train_score': array([0.63002896, 0.63002896, 0.75743968, 0.63002896, 0.81444455,\n",
       "        0.79312758, 0.81971223, 0.81442923]),\n",
       " 'std_train_score': array([4.30039271e-05, 4.30039271e-05, 2.11396581e-03, 4.30039271e-05,\n",
       "        6.73113703e-04, 2.52458246e-03, 1.16910421e-03, 1.14866646e-03])}"
      ]
     },
     "execution_count": 10,
     "metadata": {},
     "output_type": "execute_result"
    }
   ],
   "source": [
    "rnd_cv.cv_results_"
   ]
  },
  {
   "cell_type": "code",
   "execution_count": 11,
   "metadata": {},
   "outputs": [
    {
     "data": {
      "text/plain": [
       "SVC(C=1000, cache_size=200, class_weight=None, coef0=0.0,\n",
       "  decision_function_shape='ovr', degree=3, gamma=0.001, kernel='rbf',\n",
       "  max_iter=-1, probability=False, random_state=0, shrinking=True,\n",
       "  tol=0.001, verbose=False)"
      ]
     },
     "execution_count": 11,
     "metadata": {},
     "output_type": "execute_result"
    }
   ],
   "source": [
    "rnd_cv.best_estimator_"
   ]
  },
  {
   "cell_type": "code",
   "execution_count": 12,
   "metadata": {},
   "outputs": [],
   "source": [
    "import joblib"
   ]
  },
  {
   "cell_type": "code",
   "execution_count": 13,
   "metadata": {},
   "outputs": [
    {
     "data": {
      "text/plain": [
       "['SVC.pkl']"
      ]
     },
     "execution_count": 13,
     "metadata": {},
     "output_type": "execute_result"
    }
   ],
   "source": [
    "joblib.dump(rnd_cv.best_estimator_, 'SVC.pkl')"
   ]
  },
  {
   "cell_type": "code",
   "execution_count": null,
   "metadata": {},
   "outputs": [],
   "source": []
  }
 ],
 "metadata": {
  "kernelspec": {
   "display_name": "Python 3",
   "language": "python",
   "name": "python3"
  },
  "language_info": {
   "codemirror_mode": {
    "name": "ipython",
    "version": 3
   },
   "file_extension": ".py",
   "mimetype": "text/x-python",
   "name": "python",
   "nbconvert_exporter": "python",
   "pygments_lexer": "ipython3",
   "version": "3.7.1"
  }
 },
 "nbformat": 4,
 "nbformat_minor": 2
}
